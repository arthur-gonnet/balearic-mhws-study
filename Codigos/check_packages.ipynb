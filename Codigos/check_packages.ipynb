{
 "cells": [
  {
   "cell_type": "code",
   "execution_count": 10,
   "metadata": {},
   "outputs": [
    {
     "name": "stdout",
     "output_type": "stream",
     "text": [
      "Requirement already satisfied: numpy in /home/toiture/miniconda3/lib/python3.12/site-packages (2.3.2)\n",
      "Requirement already satisfied: xarray in /home/toiture/miniconda3/lib/python3.12/site-packages (2025.7.1)\n",
      "Requirement already satisfied: matplotlib in /home/toiture/miniconda3/lib/python3.12/site-packages (3.10.5)\n",
      "Requirement already satisfied: pymannkendall in /home/toiture/miniconda3/lib/python3.12/site-packages (1.4.3)\n",
      "Requirement already satisfied: geopy in /home/toiture/miniconda3/lib/python3.12/site-packages (2.4.1)\n",
      "Requirement already satisfied: dask in /home/toiture/miniconda3/lib/python3.12/site-packages (2025.7.0)\n",
      "Requirement already satisfied: shapely in /home/toiture/miniconda3/lib/python3.12/site-packages (2.1.1)\n",
      "Requirement already satisfied: cmocean in /home/toiture/miniconda3/lib/python3.12/site-packages (4.0.3)\n",
      "Collecting cartopy\n",
      "  Downloading cartopy-0.25.0-cp312-cp312-manylinux_2_24_x86_64.manylinux_2_28_x86_64.whl.metadata (6.1 kB)\n",
      "Requirement already satisfied: packaging>=24.1 in /home/toiture/miniconda3/lib/python3.12/site-packages (from xarray) (24.1)\n",
      "Requirement already satisfied: pandas>=2.2 in /home/toiture/miniconda3/lib/python3.12/site-packages (from xarray) (2.3.1)\n",
      "Requirement already satisfied: contourpy>=1.0.1 in /home/toiture/miniconda3/lib/python3.12/site-packages (from matplotlib) (1.3.3)\n",
      "Requirement already satisfied: cycler>=0.10 in /home/toiture/miniconda3/lib/python3.12/site-packages (from matplotlib) (0.12.1)\n",
      "Requirement already satisfied: fonttools>=4.22.0 in /home/toiture/miniconda3/lib/python3.12/site-packages (from matplotlib) (4.59.0)\n",
      "Requirement already satisfied: kiwisolver>=1.3.1 in /home/toiture/miniconda3/lib/python3.12/site-packages (from matplotlib) (1.4.8)\n",
      "Requirement already satisfied: pillow>=8 in /home/toiture/miniconda3/lib/python3.12/site-packages (from matplotlib) (11.3.0)\n",
      "Requirement already satisfied: pyparsing>=2.3.1 in /home/toiture/miniconda3/lib/python3.12/site-packages (from matplotlib) (3.2.3)\n",
      "Requirement already satisfied: python-dateutil>=2.7 in /home/toiture/miniconda3/lib/python3.12/site-packages (from matplotlib) (2.9.0.post0)\n",
      "Requirement already satisfied: scipy in /home/toiture/miniconda3/lib/python3.12/site-packages (from pymannkendall) (1.16.1)\n",
      "Requirement already satisfied: geographiclib<3,>=1.52 in /home/toiture/miniconda3/lib/python3.12/site-packages (from geopy) (2.0)\n",
      "Requirement already satisfied: click>=8.1 in /home/toiture/miniconda3/lib/python3.12/site-packages (from dask) (8.2.1)\n",
      "Requirement already satisfied: cloudpickle>=3.0.0 in /home/toiture/miniconda3/lib/python3.12/site-packages (from dask) (3.1.1)\n",
      "Requirement already satisfied: fsspec>=2021.09.0 in /home/toiture/miniconda3/lib/python3.12/site-packages (from dask) (2025.7.0)\n",
      "Requirement already satisfied: partd>=1.4.0 in /home/toiture/miniconda3/lib/python3.12/site-packages (from dask) (1.4.2)\n",
      "Requirement already satisfied: pyyaml>=5.3.1 in /home/toiture/miniconda3/lib/python3.12/site-packages (from dask) (6.0.2)\n",
      "Requirement already satisfied: toolz>=0.10.0 in /home/toiture/miniconda3/lib/python3.12/site-packages (from dask) (1.0.0)\n",
      "Collecting pyshp>=2.3 (from cartopy)\n",
      "  Using cached pyshp-2.3.1-py2.py3-none-any.whl.metadata (55 kB)\n",
      "Collecting pyproj>=3.3.1 (from cartopy)\n",
      "  Downloading pyproj-3.7.1-cp312-cp312-manylinux_2_17_x86_64.manylinux2014_x86_64.whl.metadata (31 kB)\n",
      "Requirement already satisfied: pytz>=2020.1 in /home/toiture/miniconda3/lib/python3.12/site-packages (from pandas>=2.2->xarray) (2025.2)\n",
      "Requirement already satisfied: tzdata>=2022.7 in /home/toiture/miniconda3/lib/python3.12/site-packages (from pandas>=2.2->xarray) (2025.2)\n",
      "Requirement already satisfied: locket in /home/toiture/miniconda3/lib/python3.12/site-packages (from partd>=1.4.0->dask) (1.0.0)\n",
      "Requirement already satisfied: certifi in /home/toiture/miniconda3/lib/python3.12/site-packages (from pyproj>=3.3.1->cartopy) (2024.12.14)\n",
      "Requirement already satisfied: six>=1.5 in /home/toiture/miniconda3/lib/python3.12/site-packages (from python-dateutil>=2.7->matplotlib) (1.17.0)\n",
      "Downloading cartopy-0.25.0-cp312-cp312-manylinux_2_24_x86_64.manylinux_2_28_x86_64.whl (11.8 MB)\n",
      "\u001b[2K   \u001b[90m━━━━━━━━━━━━━━━━━━━━━━━━━━━━━━━━━━━━━━━━\u001b[0m \u001b[32m11.8/11.8 MB\u001b[0m \u001b[31m33.2 MB/s\u001b[0m eta \u001b[36m0:00:00\u001b[0m \u001b[36m0:00:01\u001b[0m\n",
      "\u001b[?25hDownloading pyproj-3.7.1-cp312-cp312-manylinux_2_17_x86_64.manylinux2014_x86_64.whl (9.6 MB)\n",
      "\u001b[2K   \u001b[90m━━━━━━━━━━━━━━━━━━━━━━━━━━━━━━━━━━━━━━━━\u001b[0m \u001b[32m9.6/9.6 MB\u001b[0m \u001b[31m34.7 MB/s\u001b[0m eta \u001b[36m0:00:00\u001b[0ma \u001b[36m0:00:01\u001b[0m\n",
      "\u001b[?25hUsing cached pyshp-2.3.1-py2.py3-none-any.whl (46 kB)\n",
      "Installing collected packages: pyshp, pyproj, cartopy\n",
      "Successfully installed cartopy-0.25.0 pyproj-3.7.1 pyshp-2.3.1\n"
     ]
    }
   ],
   "source": [
    "!pip install numpy xarray matplotlib pymannkendall geopy dask shapely cmocean cartopy"
   ]
  }
 ],
 "metadata": {
  "kernelspec": {
   "display_name": "base",
   "language": "python",
   "name": "python3"
  },
  "language_info": {
   "codemirror_mode": {
    "name": "ipython",
    "version": 3
   },
   "file_extension": ".py",
   "mimetype": "text/x-python",
   "name": "python",
   "nbconvert_exporter": "python",
   "pygments_lexer": "ipython3",
   "version": "3.12.8"
  }
 },
 "nbformat": 4,
 "nbformat_minor": 2
}
